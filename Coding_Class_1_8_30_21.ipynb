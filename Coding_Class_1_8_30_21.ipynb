{
  "nbformat": 4,
  "nbformat_minor": 0,
  "metadata": {
    "colab": {
      "name": "Coding Class 1 8/30/21.ipynb",
      "provenance": [],
      "authorship_tag": "ABX9TyMxBaumds1CA3GQBDLqUpEF",
      "include_colab_link": true
    },
    "kernelspec": {
      "name": "python3",
      "display_name": "Python 3"
    },
    "language_info": {
      "name": "python"
    }
  },
  "cells": [
    {
      "cell_type": "markdown",
      "metadata": {
        "id": "view-in-github",
        "colab_type": "text"
      },
      "source": [
        "<a href=\"https://colab.research.google.com/github/brookej894/github-slideshow/blob/master/Coding_Class_1_8_30_21.ipynb\" target=\"_parent\"><img src=\"https://colab.research.google.com/assets/colab-badge.svg\" alt=\"Open In Colab\"/></a>"
      ]
    },
    {
      "cell_type": "code",
      "metadata": {
        "id": "0eLHHwpa4cvF"
      },
      "source": [
        "import random\n"
      ],
      "execution_count": 8,
      "outputs": []
    },
    {
      "cell_type": "code",
      "metadata": {
        "id": "pAP9C6QF4-3i"
      },
      "source": [
        "def coin_flip():\n",
        "  coin_value = random.randint(1,2)\n",
        "  print(coin_value)\n",
        "  if coin_value == 1: # = is to assign, == is a comparison\n",
        "    return \"head\"\n",
        "  else:\n",
        "    return \"tail\"\n",
        "# %who will return all the data in the temporary memory to show you how all variables are assigned "
      ],
      "execution_count": 12,
      "outputs": []
    },
    {
      "cell_type": "code",
      "metadata": {
        "id": "V3XbeFnN5-jV"
      },
      "source": [
        "def flip_10_times():\n",
        "  \"\"\"First method\"\"\"\n",
        "  for i in range (0,10,1): #0 is start point, 10 is end point, 1 is optional increment, python will default to 1 if not specified\n",
        "    print (coin_flip())\n",
        "\n",
        "def flip_10_times_2():\n",
        "    counter = 0\n",
        "    while counter <10:\n",
        "      print(coin_flip())\n",
        "      print(f\"counter {counter}\")\n",
        "      counter += 1\n",
        "      #counter = counter + 1 is identical to counter += 1"
      ],
      "execution_count": 16,
      "outputs": []
    },
    {
      "cell_type": "code",
      "metadata": {
        "id": "a4KKbJ8s-3A8"
      },
      "source": [
        "def flip_N_times(n):\n",
        "  \"\"\"First method\"\"\"\n",
        "  for i in range (0,n,1): #0 is start point, 10 is end point, 1 is optional increment, python will default to 1 if not specified\n",
        "    print (coin_flip)\n"
      ],
      "execution_count": 20,
      "outputs": []
    },
    {
      "cell_type": "code",
      "metadata": {
        "id": "5zmbah6aAuEa"
      },
      "source": [
        "def flip_N_times():\n",
        "  \"\"\"First method\"\"\"\n",
        "  times = int(input(\"How many times do you want to flip?  \"))\n",
        "  for i in range (0,times,1): \n",
        "    print (coin_flip)"
      ],
      "execution_count": 29,
      "outputs": []
    },
    {
      "cell_type": "code",
      "metadata": {
        "colab": {
          "base_uri": "https://localhost:8080/"
        },
        "id": "Xx3FSYvD8RhG",
        "outputId": "42cd2f59-859e-4344-ce51-65e662b96a6f"
      },
      "source": [
        "flip_N_times()"
      ],
      "execution_count": 32,
      "outputs": [
        {
          "output_type": "stream",
          "name": "stdout",
          "text": [
            "How many times do you want to flip?  10\n",
            "<function coin_flip at 0x7f5df80178c0>\n",
            "<function coin_flip at 0x7f5df80178c0>\n",
            "<function coin_flip at 0x7f5df80178c0>\n",
            "<function coin_flip at 0x7f5df80178c0>\n",
            "<function coin_flip at 0x7f5df80178c0>\n",
            "<function coin_flip at 0x7f5df80178c0>\n",
            "<function coin_flip at 0x7f5df80178c0>\n",
            "<function coin_flip at 0x7f5df80178c0>\n",
            "<function coin_flip at 0x7f5df80178c0>\n",
            "<function coin_flip at 0x7f5df80178c0>\n"
          ]
        }
      ]
    },
    {
      "cell_type": "code",
      "metadata": {
        "colab": {
          "base_uri": "https://localhost:8080/"
        },
        "id": "Yj8Ty9HU8kSq",
        "outputId": "f9556ad1-8f82-4acd-e67f-ac7b312591ba"
      },
      "source": [
        "times = int(input(\"How many times do you want to flip?\")) # this is storing times as a string, to change it to an integer, put int infront of input\n"
      ],
      "execution_count": 26,
      "outputs": [
        {
          "name": "stdout",
          "output_type": "stream",
          "text": [
            "How many times do you want to flip?10\n"
          ]
        }
      ]
    }
  ]
}